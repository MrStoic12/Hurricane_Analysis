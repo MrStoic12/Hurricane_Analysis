{
 "cells": [
  {
   "attachments": {},
   "cell_type": "markdown",
   "id": "58875e7a",
   "metadata": {},
   "source": [
    "# Hurricane Analysis"
   ]
  },
  {
   "attachments": {},
   "cell_type": "markdown",
   "id": "9a2d9627",
   "metadata": {},
   "source": [
    "#### Overview"
   ]
  },
  {
   "attachments": {},
   "cell_type": "markdown",
   "id": "633e5dde",
   "metadata": {},
   "source": [
    "This project is slightly different than others you have encountered thus far. Instead of a step-by-step tutorial, this project contains a series of open-ended requirements which describe the project you'll be building. There are many possible ways to correctly fulfill all of these requirements, and you should expect to use the internet, Codecademy, and other resources when you encounter a problem that you cannot easily solve."
   ]
  },
  {
   "attachments": {},
   "cell_type": "markdown",
   "id": "52f01f07",
   "metadata": {},
   "source": [
    "#### Project Goals"
   ]
  },
  {
   "attachments": {},
   "cell_type": "markdown",
   "id": "d9d06c43",
   "metadata": {},
   "source": [
    "You will work to write several functions that organize and manipulate data about Category 5 Hurricanes, the strongest hurricanes as rated by their wind speed. Each one of these functions will use a number of parameters, conditionals, lists, dictionaries, string manipulation, and return statements."
   ]
  },
  {
   "attachments": {},
   "cell_type": "markdown",
   "id": "7fbb9fb5",
   "metadata": {},
   "source": [
    "#### Prerequisites"
   ]
  },
  {
   "attachments": {},
   "cell_type": "markdown",
   "id": "4732a1e8",
   "metadata": {},
   "source": [
    "In order to complete this project, you should have completed the Loops and Dictionaries sections of the [Learn Python 3 Course](https://www.codecademy.com/learn/learn-python-3). This content is also covered in the [Data Scientist Career Path](https://www.codecademy.com/learn/paths/data-science/)."
   ]
  },
  {
   "attachments": {},
   "cell_type": "markdown",
   "id": "1e924903",
   "metadata": {},
   "source": [
    "## Project Requirements"
   ]
  },
  {
   "attachments": {},
   "cell_type": "markdown",
   "id": "35d6f74d",
   "metadata": {},
   "source": [
    "1. Hurricanes, also known as cyclones or typhoons, are one of the most powerful forces of nature on Earth. Due to climate change caused by human activity, the number and intensity of hurricanes has risen, calling for better preparation by the many communities that are devastated by them. As a concerned environmentalist, you want to look at data about the most powerful hurricanes that have occured. \n",
    "\n",
    "   Begin by looking at the `damages` list. The list contains strings representing the total cost in USD(`$`) caused by `34` category 5 hurricanes (wind speeds $\\ge$ 157 mph (252 km/h)) in the Atlantic region. For some of the hurricanes, damage data was not recorded (`\"Damages not recorded\"`), while the rest are written in the format `\"Prefix-B/M\"`, where `B` stands for billions (`1000000000`) and `M` stands for millions (`1000000`).\n",
    "   \n",
    "   Write a function that returns a new list of updated damages where the recorded data is converted to float values and the missing data is retained as `\"Damages not recorded\"`.\n",
    "   \n",
    "   Test your function with the data stored in `damages`."
   ]
  },
  {
   "cell_type": "code",
   "execution_count": 86,
   "id": "d8d3c50b",
   "metadata": {},
   "outputs": [
    {
     "name": "stdout",
     "output_type": "stream",
     "text": [
      "['Damages not recorded', 100000000.0, 'Damages not recorded', 40000000.0, 27900000.0, 5000000.0, 'Damages not recorded', 306000000.0, 2000000.0, 65800000.0, 326000000.0, 60300000.0, 208000000.0, 1420000000.0, 25400000.0, 'Damages not recorded', 1540000000.0, 1240000000.0, 7100000000.0, 10000000000.0, 26500000000.0, 6200000000.0, 5370000000.0, 23300000000.0, 1010000000.0, 125000000000.0, 12000000000.0, 29400000000.0, 1760000000.0, 720000000.0, 15100000000.0, 64800000000.0, 91600000000.0, 25100000000.0]\n"
     ]
    }
   ],
   "source": [
    "# damages (USD($)) of hurricanes\n",
    "damages = ['Damages not recorded', '100M', 'Damages not recorded', '40M',\n",
    "          '27.9M', '5M', 'Damages not recorded', '306M', '2M', '65.8M',\n",
    "          '326M', '60.3M', '208M', '1.42B', '25.4M', 'Damages not recorded',\n",
    "          '1.54B', '1.24B', '7.1B', '10B', '26.5B', '6.2B', '5.37B', '23.3B',\n",
    "          '1.01B', '125B', '12B', '29.4B', '1.76B', '720M', '15.1B', '64.8B',\n",
    "          '91.6B', '25.1B']\n",
    "\n",
    "# 1\n",
    "# Update Recorded Damages\n",
    "conversion = {\"M\": 1000000,\n",
    "             \"B\": 1000000000}\n",
    "\n",
    "# test function by updating damages\n",
    "def damages_to_float(input_list):\n",
    "    result = []\n",
    "    for element in input_list:\n",
    "        if element != 'Damages not recorded':\n",
    "            value = float(element[:-1])\n",
    "            multiplier = conversion.get(element[-1], 1)\n",
    "            result.append(value*multiplier)\n",
    "        else:\n",
    "            result.append('Damages not recorded')\n",
    "    return result\n",
    "    \n",
    "damages_in_float = damages_to_float(damages)\n",
    "print(damages_in_float)"
   ]
  },
  {
   "attachments": {},
   "cell_type": "markdown",
   "id": "36ac47b6",
   "metadata": {},
   "source": [
    "2. Additional data collected on the `34` strongest Atlantic hurricanes are provided in a series of lists. The data includes:\n",
    "   - `names`: names of the hurricanes\n",
    "   - `months`: months in which the hurricanes occurred\n",
    "   - `years`: years in which the hurricanes occurred\n",
    "   - `max_sustained_winds`: maximum sustained winds (miles per hour) of the hurricanes\n",
    "   - `areas_affected`: list of different areas affected by each of the hurricanes\n",
    "   - `deaths`: total number of deaths caused by each of the hurricanes\n",
    "   \n",
    "   The data is organized such that the data at each index, from `0` to `33`, corresponds to the same hurricane.\n",
    "   \n",
    "   For example, `names[0]` yields the \"Cuba I\" hurricane, which occurred in `months[0]` (October) `years[0]` (1924).\n",
    "   \n",
    "   Write a function that constructs a dictionary made out of the lists, where the keys of the dictionary are the names of the hurricanes, and the values are dictionaries themselves containing a key for each piece of data (`Name`, `Month`, `Year`, `Max Sustained Wind`, `Areas Affected`, `Damage`, `Death`) about the hurricane.\n",
    "   \n",
    "   Thus the key `\"Cuba I\"` would have the value: `{'Name': 'Cuba I', 'Month': 'October', 'Year': 1924, 'Max Sustained Wind': 165, 'Areas Affected': ['Central America', 'Mexico', 'Cuba', 'Florida', 'The Bahamas'], 'Damage': 'Damages not recorded', 'Deaths': 90}`.\n",
    "   \n",
    "   Test your function on the lists of data provided."
   ]
  },
  {
   "cell_type": "code",
   "execution_count": 87,
   "id": "641aa113",
   "metadata": {},
   "outputs": [
    {
     "name": "stdout",
     "output_type": "stream",
     "text": [
      "{'Cuba I': {'Hurricane Name': 'Cuba I', 'Month of event': 'October', 'Year': 1924, 'Maximum Sustained Winds': 165, 'Areas Affected': ['Central America', 'Mexico', 'Cuba', 'Florida', 'The Bahamas'], 'Damages in USD': 'Damages not recorded', 'Reported Deaths': 90}, 'San Felipe II Okeechobee': {'Hurricane Name': 'San Felipe II Okeechobee', 'Month of event': 'September', 'Year': 1928, 'Maximum Sustained Winds': 160, 'Areas Affected': ['Lesser Antilles', 'The Bahamas', 'United States East Coast', 'Atlantic Canada'], 'Damages in USD': 100000000.0, 'Reported Deaths': 4000}, 'Bahamas': {'Hurricane Name': 'Bahamas', 'Month of event': 'September', 'Year': 1932, 'Maximum Sustained Winds': 160, 'Areas Affected': ['The Bahamas', 'Northeastern United States'], 'Damages in USD': 'Damages not recorded', 'Reported Deaths': 16}, 'Cuba II': {'Hurricane Name': 'Cuba II', 'Month of event': 'November', 'Year': 1932, 'Maximum Sustained Winds': 175, 'Areas Affected': ['Lesser Antilles', 'Jamaica', 'Cayman Islands', 'Cuba', 'The Bahamas', 'Bermuda'], 'Damages in USD': 40000000.0, 'Reported Deaths': 3103}, 'CubaBrownsville': {'Hurricane Name': 'CubaBrownsville', 'Month of event': 'August', 'Year': 1933, 'Maximum Sustained Winds': 160, 'Areas Affected': ['The Bahamas', 'Cuba', 'Florida', 'Texas', 'Tamaulipas'], 'Damages in USD': 27900000.0, 'Reported Deaths': 179}, 'Tampico': {'Hurricane Name': 'Tampico', 'Month of event': 'September', 'Year': 1933, 'Maximum Sustained Winds': 160, 'Areas Affected': ['Jamaica', 'Yucatn Peninsula'], 'Damages in USD': 5000000.0, 'Reported Deaths': 184}, 'Labor Day': {'Hurricane Name': 'Labor Day', 'Month of event': 'September', 'Year': 1935, 'Maximum Sustained Winds': 185, 'Areas Affected': ['The Bahamas', 'Florida', 'Georgia', 'The Carolinas', 'Virginia'], 'Damages in USD': 'Damages not recorded', 'Reported Deaths': 408}, 'New England': {'Hurricane Name': 'New England', 'Month of event': 'September', 'Year': 1938, 'Maximum Sustained Winds': 160, 'Areas Affected': ['Southeastern United States', 'Northeastern United States', 'Southwestern Quebec'], 'Damages in USD': 306000000.0, 'Reported Deaths': 682}, 'Carol': {'Hurricane Name': 'Carol', 'Month of event': 'September', 'Year': 1953, 'Maximum Sustained Winds': 160, 'Areas Affected': ['Bermuda', 'New England', 'Atlantic Canada'], 'Damages in USD': 2000000.0, 'Reported Deaths': 5}, 'Janet': {'Hurricane Name': 'Janet', 'Month of event': 'September', 'Year': 1955, 'Maximum Sustained Winds': 175, 'Areas Affected': ['Lesser Antilles', 'Central America'], 'Damages in USD': 65800000.0, 'Reported Deaths': 1023}, 'Carla': {'Hurricane Name': 'Carla', 'Month of event': 'September', 'Year': 1961, 'Maximum Sustained Winds': 175, 'Areas Affected': ['Texas', 'Louisiana', 'Midwestern United States'], 'Damages in USD': 326000000.0, 'Reported Deaths': 43}, 'Hattie': {'Hurricane Name': 'Hattie', 'Month of event': 'October', 'Year': 1961, 'Maximum Sustained Winds': 160, 'Areas Affected': ['Central America'], 'Damages in USD': 60300000.0, 'Reported Deaths': 319}, 'Beulah': {'Hurricane Name': 'Beulah', 'Month of event': 'September', 'Year': 1967, 'Maximum Sustained Winds': 160, 'Areas Affected': ['The Caribbean', 'Mexico', 'Texas'], 'Damages in USD': 208000000.0, 'Reported Deaths': 688}, 'Camille': {'Hurricane Name': 'Camille', 'Month of event': 'August', 'Year': 1969, 'Maximum Sustained Winds': 175, 'Areas Affected': ['Cuba', 'United States Gulf Coast'], 'Damages in USD': 1420000000.0, 'Reported Deaths': 259}, 'Edith': {'Hurricane Name': 'Edith', 'Month of event': 'September', 'Year': 1971, 'Maximum Sustained Winds': 160, 'Areas Affected': ['The Caribbean', 'Central America', 'Mexico', 'United States Gulf Coast'], 'Damages in USD': 25400000.0, 'Reported Deaths': 37}, 'Anita': {'Hurricane Name': 'Anita', 'Month of event': 'September', 'Year': 1977, 'Maximum Sustained Winds': 175, 'Areas Affected': ['Mexico'], 'Damages in USD': 'Damages not recorded', 'Reported Deaths': 11}, 'David': {'Hurricane Name': 'David', 'Month of event': 'August', 'Year': 1979, 'Maximum Sustained Winds': 175, 'Areas Affected': ['The Caribbean', 'United States East coast'], 'Damages in USD': 1540000000.0, 'Reported Deaths': 2068}, 'Allen': {'Hurricane Name': 'Allen', 'Month of event': 'August', 'Year': 1980, 'Maximum Sustained Winds': 190, 'Areas Affected': ['The Caribbean', 'Yucatn Peninsula', 'Mexico', 'South Texas'], 'Damages in USD': 1240000000.0, 'Reported Deaths': 269}, 'Gilbert': {'Hurricane Name': 'Gilbert', 'Month of event': 'September', 'Year': 1988, 'Maximum Sustained Winds': 185, 'Areas Affected': ['Jamaica', 'Venezuela', 'Central America', 'Hispaniola', 'Mexico'], 'Damages in USD': 7100000000.0, 'Reported Deaths': 318}, 'Hugo': {'Hurricane Name': 'Hugo', 'Month of event': 'September', 'Year': 1989, 'Maximum Sustained Winds': 160, 'Areas Affected': ['The Caribbean', 'United States East Coast'], 'Damages in USD': 10000000000.0, 'Reported Deaths': 107}, 'Andrew': {'Hurricane Name': 'Andrew', 'Month of event': 'August', 'Year': 1992, 'Maximum Sustained Winds': 175, 'Areas Affected': ['The Bahamas', 'Florida', 'United States Gulf Coast'], 'Damages in USD': 26500000000.0, 'Reported Deaths': 65}, 'Mitch': {'Hurricane Name': 'Mitch', 'Month of event': 'October', 'Year': 1998, 'Maximum Sustained Winds': 180, 'Areas Affected': ['Central America', 'Yucatn Peninsula', 'South Florida'], 'Damages in USD': 6200000000.0, 'Reported Deaths': 19325}, 'Isabel': {'Hurricane Name': 'Isabel', 'Month of event': 'September', 'Year': 2003, 'Maximum Sustained Winds': 165, 'Areas Affected': ['Greater Antilles', 'Bahamas', 'Eastern United States', 'Ontario'], 'Damages in USD': 5370000000.0, 'Reported Deaths': 51}, 'Ivan': {'Hurricane Name': 'Ivan', 'Month of event': 'September', 'Year': 2004, 'Maximum Sustained Winds': 165, 'Areas Affected': ['The Caribbean', 'Venezuela', 'United States Gulf Coast'], 'Damages in USD': 23300000000.0, 'Reported Deaths': 124}, 'Emily': {'Hurricane Name': 'Emily', 'Month of event': 'July', 'Year': 2005, 'Maximum Sustained Winds': 160, 'Areas Affected': ['Windward Islands', 'Jamaica', 'Mexico', 'Texas'], 'Damages in USD': 1010000000.0, 'Reported Deaths': 17}, 'Katrina': {'Hurricane Name': 'Katrina', 'Month of event': 'August', 'Year': 2005, 'Maximum Sustained Winds': 175, 'Areas Affected': ['Bahamas', 'United States Gulf Coast'], 'Damages in USD': 125000000000.0, 'Reported Deaths': 1836}, 'Rita': {'Hurricane Name': 'Rita', 'Month of event': 'September', 'Year': 2005, 'Maximum Sustained Winds': 180, 'Areas Affected': ['Cuba', 'United States Gulf Coast'], 'Damages in USD': 12000000000.0, 'Reported Deaths': 125}, 'Wilma': {'Hurricane Name': 'Wilma', 'Month of event': 'October', 'Year': 2005, 'Maximum Sustained Winds': 185, 'Areas Affected': ['Greater Antilles', 'Central America', 'Florida'], 'Damages in USD': 29400000000.0, 'Reported Deaths': 87}, 'Dean': {'Hurricane Name': 'Dean', 'Month of event': 'August', 'Year': 2007, 'Maximum Sustained Winds': 175, 'Areas Affected': ['The Caribbean', 'Central America'], 'Damages in USD': 1760000000.0, 'Reported Deaths': 45}, 'Felix': {'Hurricane Name': 'Felix', 'Month of event': 'September', 'Year': 2007, 'Maximum Sustained Winds': 175, 'Areas Affected': ['Nicaragua', 'Honduras'], 'Damages in USD': 720000000.0, 'Reported Deaths': 133}, 'Matthew': {'Hurricane Name': 'Matthew', 'Month of event': 'October', 'Year': 2016, 'Maximum Sustained Winds': 165, 'Areas Affected': ['Antilles', 'Venezuela', 'Colombia', 'United States East Coast', 'Atlantic Canada'], 'Damages in USD': 15100000000.0, 'Reported Deaths': 603}, 'Irma': {'Hurricane Name': 'Irma', 'Month of event': 'September', 'Year': 2017, 'Maximum Sustained Winds': 180, 'Areas Affected': ['Cape Verde', 'The Caribbean', 'British Virgin Islands', 'U.S. Virgin Islands', 'Cuba', 'Florida'], 'Damages in USD': 64800000000.0, 'Reported Deaths': 138}, 'Maria': {'Hurricane Name': 'Maria', 'Month of event': 'September', 'Year': 2017, 'Maximum Sustained Winds': 175, 'Areas Affected': ['Lesser Antilles', 'Virgin Islands', 'Puerto Rico', 'Dominican Republic', 'Turks and Caicos Islands'], 'Damages in USD': 91600000000.0, 'Reported Deaths': 3057}, 'Michael': {'Hurricane Name': 'Michael', 'Month of event': 'October', 'Year': 2018, 'Maximum Sustained Winds': 160, 'Areas Affected': ['Central America', 'United States Gulf Coast (especially Florida Panhandle)'], 'Damages in USD': 25100000000.0, 'Reported Deaths': 74}}\n"
     ]
    }
   ],
   "source": [
    "# names of hurricanes\n",
    "names = ['Cuba I', 'San Felipe II Okeechobee', 'Bahamas', 'Cuba II', 'CubaBrownsville', 'Tampico', 'Labor Day', 'New England', 'Carol', 'Janet', 'Carla', 'Hattie', 'Beulah', 'Camille', 'Edith', 'Anita', 'David', 'Allen', 'Gilbert', 'Hugo', 'Andrew', 'Mitch', 'Isabel', 'Ivan', 'Emily', 'Katrina', 'Rita', 'Wilma', 'Dean', 'Felix', 'Matthew', 'Irma', 'Maria', 'Michael']\n",
    "\n",
    "# months of hurricanes\n",
    "months = ['October', 'September', 'September', 'November', 'August', 'September', 'September', 'September', 'September', 'September', 'September', 'October', 'September', 'August', 'September', 'September', 'August', 'August', 'September', 'September', 'August', 'October', 'September', 'September', 'July', 'August', 'September', 'October', 'August', 'September', 'October', 'September', 'September', 'October']\n",
    "\n",
    "# years of hurricanes\n",
    "years = [1924, 1928, 1932, 1932, 1933, 1933, 1935, 1938, 1953, 1955, 1961, 1961, 1967, 1969, 1971, 1977, 1979, 1980, 1988, 1989, 1992, 1998, 2003, 2004, 2005, 2005, 2005, 2005, 2007, 2007, 2016, 2017, 2017, 2018]\n",
    "\n",
    "# maximum sustained winds (mph) of hurricanes\n",
    "max_sustained_winds = [165, 160, 160, 175, 160, 160, 185, 160, 160, 175, 175, 160, 160, 175, 160, 175, 175, 190, 185, 160, 175, 180, 165, 165, 160, 175, 180, 185, 175, 175, 165, 180, 175, 160]\n",
    "\n",
    "# areas affected by each hurricane\n",
    "areas_affected = [['Central America', 'Mexico', 'Cuba', 'Florida', 'The Bahamas'], ['Lesser Antilles', 'The Bahamas', 'United States East Coast', 'Atlantic Canada'], ['The Bahamas', 'Northeastern United States'], ['Lesser Antilles', 'Jamaica', 'Cayman Islands', 'Cuba', 'The Bahamas', 'Bermuda'], ['The Bahamas', 'Cuba', 'Florida', 'Texas', 'Tamaulipas'], ['Jamaica', 'Yucatn Peninsula'], ['The Bahamas', 'Florida', 'Georgia', 'The Carolinas', 'Virginia'], ['Southeastern United States', 'Northeastern United States', 'Southwestern Quebec'], ['Bermuda', 'New England', 'Atlantic Canada'], ['Lesser Antilles', 'Central America'], ['Texas', 'Louisiana', 'Midwestern United States'], ['Central America'], ['The Caribbean', 'Mexico', 'Texas'], ['Cuba', 'United States Gulf Coast'], ['The Caribbean', 'Central America', 'Mexico', 'United States Gulf Coast'], ['Mexico'], ['The Caribbean', 'United States East coast'], ['The Caribbean', 'Yucatn Peninsula', 'Mexico', 'South Texas'], ['Jamaica', 'Venezuela', 'Central America', 'Hispaniola', 'Mexico'], ['The Caribbean', 'United States East Coast'], ['The Bahamas', 'Florida', 'United States Gulf Coast'], ['Central America', 'Yucatn Peninsula', 'South Florida'], ['Greater Antilles', 'Bahamas', 'Eastern United States', 'Ontario'], ['The Caribbean', 'Venezuela', 'United States Gulf Coast'], ['Windward Islands', 'Jamaica', 'Mexico', 'Texas'], ['Bahamas', 'United States Gulf Coast'], ['Cuba', 'United States Gulf Coast'], ['Greater Antilles', 'Central America', 'Florida'], ['The Caribbean', 'Central America'], ['Nicaragua', 'Honduras'], ['Antilles', 'Venezuela', 'Colombia', 'United States East Coast', 'Atlantic Canada'], ['Cape Verde', 'The Caribbean', 'British Virgin Islands', 'U.S. Virgin Islands', 'Cuba', 'Florida'], ['Lesser Antilles', 'Virgin Islands', 'Puerto Rico', 'Dominican Republic', 'Turks and Caicos Islands'], ['Central America', 'United States Gulf Coast (especially Florida Panhandle)']]\n",
    "\n",
    "# damages (USD($)) of hurricanes\n",
    "damages = damages_in_float\n",
    "# deaths for each hurricane\n",
    "deaths = [90,4000,16,3103,179,184,408,682,5,1023,43,319,688,259,37,11,2068,269,318,107,65,19325,51,124,17,1836,125,87,45,133,603,138,3057,74]\n",
    "\n",
    "# 2\n",
    "# Create a Table\n",
    "def construct_hurricane_dict(names, months, years, max_sustained_winds, areas_affected, damages, deaths):\n",
    "    hurricane_dict = {}\n",
    "    for i in range(len(names)):\n",
    "        hurricane_dict[names[i]] = {\"Hurricane Name\": names[i], 'Month of event': months[i], 'Year': years[i], \"Maximum Sustained Winds\": max_sustained_winds[i],\n",
    "                                    \"Areas Affected\": areas_affected[i], \"Damages in USD\": damages[i], \"Reported Deaths\": deaths[i]}\n",
    "    return hurricane_dict\n",
    "        \n",
    "\n",
    "# Create and view the hurricanes dictionary\n",
    "hurr_dict = construct_hurricane_dict(names, months, years, max_sustained_winds, areas_affected, damages, deaths)\n",
    "print(hurr_dict)"
   ]
  },
  {
   "attachments": {},
   "cell_type": "markdown",
   "id": "6d0a1933",
   "metadata": {},
   "source": [
    "3. In addition to organizing the hurricanes in a dictionary with names as the key, you want to be able to organize the hurricanes by year.\n",
    "\n",
    "   Write a function that converts the current dictionary of hurricanes to a new dictionary, where the keys are years and the values are lists containing a dictionary for each hurricane that occurred in that year.\n",
    "   \n",
    "   For example, the key `1932` would yield the value: `[{'Name': 'Bahamas', 'Month': 'September', 'Year': 1932, 'Max Sustained Wind': 160, 'Areas Affected': ['The Bahamas', 'Northeastern United States'], 'Damage': 'Damage not recorded', 'Deaths': 16}, {'Name': 'Cuba II', 'Month': 'November', 'Year': 1932, 'Max Sustained Wind': 175, 'Areas Affected': ['Lesser Antilles', 'Jamaica', 'Cayman Islands', 'Cuba', 'The Bahamas', 'Bermuda'], 'Damage': 40000000.0, 'Deaths': 3103}]`.\n",
    "   \n",
    "   Test your function on your hurricane dictionary."
   ]
  },
  {
   "cell_type": "code",
   "execution_count": 88,
   "id": "1ef2edea",
   "metadata": {},
   "outputs": [
    {
     "name": "stdout",
     "output_type": "stream",
     "text": [
      "{1924: [{'Hurricane Name': 'Cuba I', 'Month of event': 'October', 'Year': 1924, 'Maximum Sustained Winds': 165, 'Areas Affected': ['Central America', 'Mexico', 'Cuba', 'Florida', 'The Bahamas'], 'Damages in USD': 'Damages not recorded', 'Reported Deaths': 90}], 1928: [{'Hurricane Name': 'San Felipe II Okeechobee', 'Month of event': 'September', 'Year': 1928, 'Maximum Sustained Winds': 160, 'Areas Affected': ['Lesser Antilles', 'The Bahamas', 'United States East Coast', 'Atlantic Canada'], 'Damages in USD': 100000000.0, 'Reported Deaths': 4000}], 1932: [{'Hurricane Name': 'Cuba II', 'Month of event': 'November', 'Year': 1932, 'Maximum Sustained Winds': 175, 'Areas Affected': ['Lesser Antilles', 'Jamaica', 'Cayman Islands', 'Cuba', 'The Bahamas', 'Bermuda'], 'Damages in USD': 40000000.0, 'Reported Deaths': 3103}], 1933: [{'Hurricane Name': 'Tampico', 'Month of event': 'September', 'Year': 1933, 'Maximum Sustained Winds': 160, 'Areas Affected': ['Jamaica', 'Yucatn Peninsula'], 'Damages in USD': 5000000.0, 'Reported Deaths': 184}], 1935: [{'Hurricane Name': 'Labor Day', 'Month of event': 'September', 'Year': 1935, 'Maximum Sustained Winds': 185, 'Areas Affected': ['The Bahamas', 'Florida', 'Georgia', 'The Carolinas', 'Virginia'], 'Damages in USD': 'Damages not recorded', 'Reported Deaths': 408}], 1938: [{'Hurricane Name': 'New England', 'Month of event': 'September', 'Year': 1938, 'Maximum Sustained Winds': 160, 'Areas Affected': ['Southeastern United States', 'Northeastern United States', 'Southwestern Quebec'], 'Damages in USD': 306000000.0, 'Reported Deaths': 682}], 1953: [{'Hurricane Name': 'Carol', 'Month of event': 'September', 'Year': 1953, 'Maximum Sustained Winds': 160, 'Areas Affected': ['Bermuda', 'New England', 'Atlantic Canada'], 'Damages in USD': 2000000.0, 'Reported Deaths': 5}], 1955: [{'Hurricane Name': 'Janet', 'Month of event': 'September', 'Year': 1955, 'Maximum Sustained Winds': 175, 'Areas Affected': ['Lesser Antilles', 'Central America'], 'Damages in USD': 65800000.0, 'Reported Deaths': 1023}], 1961: [{'Hurricane Name': 'Hattie', 'Month of event': 'October', 'Year': 1961, 'Maximum Sustained Winds': 160, 'Areas Affected': ['Central America'], 'Damages in USD': 60300000.0, 'Reported Deaths': 319}], 1967: [{'Hurricane Name': 'Beulah', 'Month of event': 'September', 'Year': 1967, 'Maximum Sustained Winds': 160, 'Areas Affected': ['The Caribbean', 'Mexico', 'Texas'], 'Damages in USD': 208000000.0, 'Reported Deaths': 688}], 1969: [{'Hurricane Name': 'Camille', 'Month of event': 'August', 'Year': 1969, 'Maximum Sustained Winds': 175, 'Areas Affected': ['Cuba', 'United States Gulf Coast'], 'Damages in USD': 1420000000.0, 'Reported Deaths': 259}], 1971: [{'Hurricane Name': 'Edith', 'Month of event': 'September', 'Year': 1971, 'Maximum Sustained Winds': 160, 'Areas Affected': ['The Caribbean', 'Central America', 'Mexico', 'United States Gulf Coast'], 'Damages in USD': 25400000.0, 'Reported Deaths': 37}], 1977: [{'Hurricane Name': 'Anita', 'Month of event': 'September', 'Year': 1977, 'Maximum Sustained Winds': 175, 'Areas Affected': ['Mexico'], 'Damages in USD': 'Damages not recorded', 'Reported Deaths': 11}], 1979: [{'Hurricane Name': 'David', 'Month of event': 'August', 'Year': 1979, 'Maximum Sustained Winds': 175, 'Areas Affected': ['The Caribbean', 'United States East coast'], 'Damages in USD': 1540000000.0, 'Reported Deaths': 2068}], 1980: [{'Hurricane Name': 'Allen', 'Month of event': 'August', 'Year': 1980, 'Maximum Sustained Winds': 190, 'Areas Affected': ['The Caribbean', 'Yucatn Peninsula', 'Mexico', 'South Texas'], 'Damages in USD': 1240000000.0, 'Reported Deaths': 269}], 1988: [{'Hurricane Name': 'Gilbert', 'Month of event': 'September', 'Year': 1988, 'Maximum Sustained Winds': 185, 'Areas Affected': ['Jamaica', 'Venezuela', 'Central America', 'Hispaniola', 'Mexico'], 'Damages in USD': 7100000000.0, 'Reported Deaths': 318}], 1989: [{'Hurricane Name': 'Hugo', 'Month of event': 'September', 'Year': 1989, 'Maximum Sustained Winds': 160, 'Areas Affected': ['The Caribbean', 'United States East Coast'], 'Damages in USD': 10000000000.0, 'Reported Deaths': 107}], 1992: [{'Hurricane Name': 'Andrew', 'Month of event': 'August', 'Year': 1992, 'Maximum Sustained Winds': 175, 'Areas Affected': ['The Bahamas', 'Florida', 'United States Gulf Coast'], 'Damages in USD': 26500000000.0, 'Reported Deaths': 65}], 1998: [{'Hurricane Name': 'Mitch', 'Month of event': 'October', 'Year': 1998, 'Maximum Sustained Winds': 180, 'Areas Affected': ['Central America', 'Yucatn Peninsula', 'South Florida'], 'Damages in USD': 6200000000.0, 'Reported Deaths': 19325}], 2003: [{'Hurricane Name': 'Isabel', 'Month of event': 'September', 'Year': 2003, 'Maximum Sustained Winds': 165, 'Areas Affected': ['Greater Antilles', 'Bahamas', 'Eastern United States', 'Ontario'], 'Damages in USD': 5370000000.0, 'Reported Deaths': 51}], 2004: [{'Hurricane Name': 'Ivan', 'Month of event': 'September', 'Year': 2004, 'Maximum Sustained Winds': 165, 'Areas Affected': ['The Caribbean', 'Venezuela', 'United States Gulf Coast'], 'Damages in USD': 23300000000.0, 'Reported Deaths': 124}], 2005: [{'Hurricane Name': 'Wilma', 'Month of event': 'October', 'Year': 2005, 'Maximum Sustained Winds': 185, 'Areas Affected': ['Greater Antilles', 'Central America', 'Florida'], 'Damages in USD': 29400000000.0, 'Reported Deaths': 87}], 2007: [{'Hurricane Name': 'Felix', 'Month of event': 'September', 'Year': 2007, 'Maximum Sustained Winds': 175, 'Areas Affected': ['Nicaragua', 'Honduras'], 'Damages in USD': 720000000.0, 'Reported Deaths': 133}], 2016: [{'Hurricane Name': 'Matthew', 'Month of event': 'October', 'Year': 2016, 'Maximum Sustained Winds': 165, 'Areas Affected': ['Antilles', 'Venezuela', 'Colombia', 'United States East Coast', 'Atlantic Canada'], 'Damages in USD': 15100000000.0, 'Reported Deaths': 603}], 2017: [{'Hurricane Name': 'Maria', 'Month of event': 'September', 'Year': 2017, 'Maximum Sustained Winds': 175, 'Areas Affected': ['Lesser Antilles', 'Virgin Islands', 'Puerto Rico', 'Dominican Republic', 'Turks and Caicos Islands'], 'Damages in USD': 91600000000.0, 'Reported Deaths': 3057}], 2018: [{'Hurricane Name': 'Michael', 'Month of event': 'October', 'Year': 2018, 'Maximum Sustained Winds': 160, 'Areas Affected': ['Central America', 'United States Gulf Coast (especially Florida Panhandle)'], 'Damages in USD': 25100000000.0, 'Reported Deaths': 74}]}\n"
     ]
    }
   ],
   "source": [
    "# 3\n",
    "# Organizing by Year\n",
    "def hurr_dict_by_year(hurr_dict):\n",
    "    dict_by_year = {}\n",
    "    for hurricane in hurr_dict.values():\n",
    "        year = hurricane['Year']\n",
    "        dict_by_year[year] = [hurricane]\n",
    "    return dict_by_year\n",
    "\n",
    "# create a new dictionary of hurricanes with year and key\n",
    "organized_dict_by_year = hurr_dict_by_year(hurr_dict)\n",
    "print(organized_dict_by_year)"
   ]
  },
  {
   "attachments": {},
   "cell_type": "markdown",
   "id": "66973f77",
   "metadata": {},
   "source": [
    "4. You believe that knowing how often each of the areas of the Atlantic are affected by these strong hurricanes is important for making preparations for future hurricanes.\n",
    "\n",
    "   Write a function that counts how often each area is listed as an affected area of a hurricane. Store and return the results in a dictionary where the keys are the affected areas and the values are counts of how many times the areas were affected.\n",
    "   \n",
    "   Test your function on your hurricane dictionary."
   ]
  },
  {
   "cell_type": "code",
   "execution_count": 89,
   "id": "bff86f77",
   "metadata": {},
   "outputs": [
    {
     "name": "stdout",
     "output_type": "stream",
     "text": [
      "Central America: 9\n",
      "Mexico: 7\n",
      "Cuba: 6\n",
      "Florida: 6\n",
      "The Bahamas: 7\n",
      "Lesser Antilles: 4\n",
      "United States East Coast: 3\n",
      "Atlantic Canada: 3\n",
      "Northeastern United States: 2\n",
      "Jamaica: 4\n",
      "Cayman Islands: 1\n",
      "Bermuda: 2\n",
      "Texas: 4\n",
      "Tamaulipas: 1\n",
      "Yucatn Peninsula: 3\n",
      "Georgia: 1\n",
      "The Carolinas: 1\n",
      "Virginia: 1\n",
      "Southeastern United States: 1\n",
      "Southwestern Quebec: 1\n",
      "New England: 1\n",
      "Louisiana: 1\n",
      "Midwestern United States: 1\n",
      "The Caribbean: 8\n",
      "United States Gulf Coast: 6\n",
      "United States East coast: 1\n",
      "South Texas: 1\n",
      "Venezuela: 3\n",
      "Hispaniola: 1\n",
      "South Florida: 1\n",
      "Greater Antilles: 2\n",
      "Bahamas: 2\n",
      "Eastern United States: 1\n",
      "Ontario: 1\n",
      "Windward Islands: 1\n",
      "Nicaragua: 1\n",
      "Honduras: 1\n",
      "Antilles: 1\n",
      "Colombia: 1\n",
      "Cape Verde: 1\n",
      "British Virgin Islands: 1\n",
      "U.S. Virgin Islands: 1\n",
      "Virgin Islands: 1\n",
      "Puerto Rico: 1\n",
      "Dominican Republic: 1\n",
      "Turks and Caicos Islands: 1\n",
      "United States Gulf Coast (especially Florida Panhandle): 1\n"
     ]
    }
   ],
   "source": [
    "# 4\n",
    "# Counting Damaged Areas\n",
    "def count_affected_areas(hurr_dict):\n",
    "    area_counts = {}\n",
    "    for hurricane in hurr_dict.values():\n",
    "        areas = hurricane[\"Areas Affected\"]\n",
    "        for area in areas:\n",
    "            if area in area_counts:\n",
    "                area_counts[area] += 1\n",
    "            else:\n",
    "                area_counts[area] = 1\n",
    "    return area_counts\n",
    "        \n",
    "# create dictionary of areas to store the number of hurricanes involved in\n",
    "affected_area_counts = count_affected_areas(hurr_dict)\n",
    "for area, count in affected_area_counts.items():\n",
    "    print(f\"{area}: {count}\")"
   ]
  },
  {
   "attachments": {},
   "cell_type": "markdown",
   "id": "e015eeb3",
   "metadata": {},
   "source": [
    "5. Write a function that finds the area affected by the most hurricanes, and how often it was hit.\n",
    "\n",
    "   Test your function on your affected area dictionary."
   ]
  },
  {
   "cell_type": "code",
   "execution_count": 90,
   "id": "643c73f9",
   "metadata": {},
   "outputs": [
    {
     "name": "stdout",
     "output_type": "stream",
     "text": [
      "The area with the most hurricanes is Central America with a total of 9 occurences\n"
     ]
    }
   ],
   "source": [
    "# 5\n",
    "# Calculating Maximum Hurricane Count\n",
    "def most_affected_areas(affected_area_counts):\n",
    "    max_count = 0\n",
    "    most_affected_area = None\n",
    "    for area, count in affected_area_counts.items():\n",
    "        if count > max_count:\n",
    "            max_count = count\n",
    "            most_affected_area = area\n",
    "    return max_count, most_affected_area\n",
    "# find most frequently affected area and the number of hurricanes involved in\n",
    "\n",
    "count, most_affected_area  = most_affected_areas(affected_area_counts)\n",
    "print(\"The area with the most hurricanes is \" + str(most_affected_area) + \" with a total of \" + str(count) + \" occurences\")\n"
   ]
  },
  {
   "attachments": {},
   "cell_type": "markdown",
   "id": "4c120f59",
   "metadata": {},
   "source": [
    "6. Write a function that finds the hurricane that caused the greatest number of deaths, and how many deaths it caused.\n",
    "\n",
    "   Test your function on your hurricane dictionary."
   ]
  },
  {
   "cell_type": "code",
   "execution_count": 91,
   "id": "ced02448",
   "metadata": {},
   "outputs": [
    {
     "name": "stdout",
     "output_type": "stream",
     "text": [
      "The deadliest hurricane was Mitch with a total of 19325 deaths\n"
     ]
    }
   ],
   "source": [
    "# 6\n",
    "# Calculating the Deadliest Hurricane\n",
    "\n",
    "def most_deaths(hurr_dict):\n",
    "    max_deaths = 0\n",
    "    hurricane_of_death = None\n",
    "    for hurricane in hurr_dict.values():\n",
    "        deaths = hurricane[\"Reported Deaths\"]\n",
    "        if deaths > max_deaths:\n",
    "            max_deaths = deaths\n",
    "            hurricane_of_death = hurricane[\"Hurricane Name\"]\n",
    "    return max_deaths, hurricane_of_death\n",
    "# find highest mortality hurricane and the number of deaths\n",
    "\n",
    "deadly_hurricane = most_deaths(hurr_dict)\n",
    "print(\"The deadliest hurricane was {} with a total of {} deaths\".format(deadly_hurricane[1], deadly_hurricane[0]))\n"
   ]
  },
  {
   "attachments": {},
   "cell_type": "markdown",
   "id": "9ddd39b0",
   "metadata": {},
   "source": [
    "7. Just as hurricanes are rated by their windspeed, you want to try rating hurricanes based on other metrics.\n",
    "\n",
    "   Write a function that rates hurricanes on a mortality scale according to the following ratings, where the key is the rating and the value is the upper bound of deaths for that rating.\n",
    "   \n",
    "   ```py\n",
    "   mortality_scale = {0: 0,\n",
    "   1: 100,\n",
    "   2: 500,\n",
    "   3: 1000,\n",
    "   4: 10000}\n",
    "   ```\n",
    "   \n",
    "   For example, a hurricane with a `1` mortality rating would have resulted in greater than `0` but less than or equal to `100` deaths. A hurricane with a `5` mortality would have resulted in greater than `10000` deaths.\n",
    "   \n",
    "   Store the hurricanes in a new dictionary where the keys are the mortaility ratings and the values are lists containing a dictionary for each hurricane that falls into that mortality rating.\n",
    "   \n",
    "   Test your function on your hurricane dictionary."
   ]
  },
  {
   "cell_type": "code",
   "execution_count": 92,
   "id": "9eea4dc7",
   "metadata": {},
   "outputs": [
    {
     "name": "stdout",
     "output_type": "stream",
     "text": [
      "Mortality Rating 0:\n",
      "\n",
      "Mortality Rating 1:\n",
      "{'Hurricane Name': 'Cuba I', 'Month of event': 'October', 'Year': 1924, 'Maximum Sustained Winds': 165, 'Areas Affected': ['Central America', 'Mexico', 'Cuba', 'Florida', 'The Bahamas'], 'Damages in USD': 'Damages not recorded', 'Reported Deaths': 90}\n",
      "{'Hurricane Name': 'Bahamas', 'Month of event': 'September', 'Year': 1932, 'Maximum Sustained Winds': 160, 'Areas Affected': ['The Bahamas', 'Northeastern United States'], 'Damages in USD': 'Damages not recorded', 'Reported Deaths': 16}\n",
      "{'Hurricane Name': 'Carol', 'Month of event': 'September', 'Year': 1953, 'Maximum Sustained Winds': 160, 'Areas Affected': ['Bermuda', 'New England', 'Atlantic Canada'], 'Damages in USD': 2000000.0, 'Reported Deaths': 5}\n",
      "{'Hurricane Name': 'Carla', 'Month of event': 'September', 'Year': 1961, 'Maximum Sustained Winds': 175, 'Areas Affected': ['Texas', 'Louisiana', 'Midwestern United States'], 'Damages in USD': 326000000.0, 'Reported Deaths': 43}\n",
      "{'Hurricane Name': 'Edith', 'Month of event': 'September', 'Year': 1971, 'Maximum Sustained Winds': 160, 'Areas Affected': ['The Caribbean', 'Central America', 'Mexico', 'United States Gulf Coast'], 'Damages in USD': 25400000.0, 'Reported Deaths': 37}\n",
      "{'Hurricane Name': 'Anita', 'Month of event': 'September', 'Year': 1977, 'Maximum Sustained Winds': 175, 'Areas Affected': ['Mexico'], 'Damages in USD': 'Damages not recorded', 'Reported Deaths': 11}\n",
      "{'Hurricane Name': 'Andrew', 'Month of event': 'August', 'Year': 1992, 'Maximum Sustained Winds': 175, 'Areas Affected': ['The Bahamas', 'Florida', 'United States Gulf Coast'], 'Damages in USD': 26500000000.0, 'Reported Deaths': 65}\n",
      "{'Hurricane Name': 'Isabel', 'Month of event': 'September', 'Year': 2003, 'Maximum Sustained Winds': 165, 'Areas Affected': ['Greater Antilles', 'Bahamas', 'Eastern United States', 'Ontario'], 'Damages in USD': 5370000000.0, 'Reported Deaths': 51}\n",
      "{'Hurricane Name': 'Emily', 'Month of event': 'July', 'Year': 2005, 'Maximum Sustained Winds': 160, 'Areas Affected': ['Windward Islands', 'Jamaica', 'Mexico', 'Texas'], 'Damages in USD': 1010000000.0, 'Reported Deaths': 17}\n",
      "{'Hurricane Name': 'Wilma', 'Month of event': 'October', 'Year': 2005, 'Maximum Sustained Winds': 185, 'Areas Affected': ['Greater Antilles', 'Central America', 'Florida'], 'Damages in USD': 29400000000.0, 'Reported Deaths': 87}\n",
      "{'Hurricane Name': 'Dean', 'Month of event': 'August', 'Year': 2007, 'Maximum Sustained Winds': 175, 'Areas Affected': ['The Caribbean', 'Central America'], 'Damages in USD': 1760000000.0, 'Reported Deaths': 45}\n",
      "{'Hurricane Name': 'Michael', 'Month of event': 'October', 'Year': 2018, 'Maximum Sustained Winds': 160, 'Areas Affected': ['Central America', 'United States Gulf Coast (especially Florida Panhandle)'], 'Damages in USD': 25100000000.0, 'Reported Deaths': 74}\n",
      "\n",
      "Mortality Rating 2:\n",
      "{'Hurricane Name': 'CubaBrownsville', 'Month of event': 'August', 'Year': 1933, 'Maximum Sustained Winds': 160, 'Areas Affected': ['The Bahamas', 'Cuba', 'Florida', 'Texas', 'Tamaulipas'], 'Damages in USD': 27900000.0, 'Reported Deaths': 179}\n",
      "{'Hurricane Name': 'Tampico', 'Month of event': 'September', 'Year': 1933, 'Maximum Sustained Winds': 160, 'Areas Affected': ['Jamaica', 'Yucatn Peninsula'], 'Damages in USD': 5000000.0, 'Reported Deaths': 184}\n",
      "{'Hurricane Name': 'Labor Day', 'Month of event': 'September', 'Year': 1935, 'Maximum Sustained Winds': 185, 'Areas Affected': ['The Bahamas', 'Florida', 'Georgia', 'The Carolinas', 'Virginia'], 'Damages in USD': 'Damages not recorded', 'Reported Deaths': 408}\n",
      "{'Hurricane Name': 'Hattie', 'Month of event': 'October', 'Year': 1961, 'Maximum Sustained Winds': 160, 'Areas Affected': ['Central America'], 'Damages in USD': 60300000.0, 'Reported Deaths': 319}\n",
      "{'Hurricane Name': 'Camille', 'Month of event': 'August', 'Year': 1969, 'Maximum Sustained Winds': 175, 'Areas Affected': ['Cuba', 'United States Gulf Coast'], 'Damages in USD': 1420000000.0, 'Reported Deaths': 259}\n",
      "{'Hurricane Name': 'Allen', 'Month of event': 'August', 'Year': 1980, 'Maximum Sustained Winds': 190, 'Areas Affected': ['The Caribbean', 'Yucatn Peninsula', 'Mexico', 'South Texas'], 'Damages in USD': 1240000000.0, 'Reported Deaths': 269}\n",
      "{'Hurricane Name': 'Gilbert', 'Month of event': 'September', 'Year': 1988, 'Maximum Sustained Winds': 185, 'Areas Affected': ['Jamaica', 'Venezuela', 'Central America', 'Hispaniola', 'Mexico'], 'Damages in USD': 7100000000.0, 'Reported Deaths': 318}\n",
      "{'Hurricane Name': 'Hugo', 'Month of event': 'September', 'Year': 1989, 'Maximum Sustained Winds': 160, 'Areas Affected': ['The Caribbean', 'United States East Coast'], 'Damages in USD': 10000000000.0, 'Reported Deaths': 107}\n",
      "{'Hurricane Name': 'Ivan', 'Month of event': 'September', 'Year': 2004, 'Maximum Sustained Winds': 165, 'Areas Affected': ['The Caribbean', 'Venezuela', 'United States Gulf Coast'], 'Damages in USD': 23300000000.0, 'Reported Deaths': 124}\n",
      "{'Hurricane Name': 'Rita', 'Month of event': 'September', 'Year': 2005, 'Maximum Sustained Winds': 180, 'Areas Affected': ['Cuba', 'United States Gulf Coast'], 'Damages in USD': 12000000000.0, 'Reported Deaths': 125}\n",
      "{'Hurricane Name': 'Felix', 'Month of event': 'September', 'Year': 2007, 'Maximum Sustained Winds': 175, 'Areas Affected': ['Nicaragua', 'Honduras'], 'Damages in USD': 720000000.0, 'Reported Deaths': 133}\n",
      "{'Hurricane Name': 'Irma', 'Month of event': 'September', 'Year': 2017, 'Maximum Sustained Winds': 180, 'Areas Affected': ['Cape Verde', 'The Caribbean', 'British Virgin Islands', 'U.S. Virgin Islands', 'Cuba', 'Florida'], 'Damages in USD': 64800000000.0, 'Reported Deaths': 138}\n",
      "\n",
      "Mortality Rating 3:\n",
      "{'Hurricane Name': 'New England', 'Month of event': 'September', 'Year': 1938, 'Maximum Sustained Winds': 160, 'Areas Affected': ['Southeastern United States', 'Northeastern United States', 'Southwestern Quebec'], 'Damages in USD': 306000000.0, 'Reported Deaths': 682}\n",
      "{'Hurricane Name': 'Beulah', 'Month of event': 'September', 'Year': 1967, 'Maximum Sustained Winds': 160, 'Areas Affected': ['The Caribbean', 'Mexico', 'Texas'], 'Damages in USD': 208000000.0, 'Reported Deaths': 688}\n",
      "{'Hurricane Name': 'Matthew', 'Month of event': 'October', 'Year': 2016, 'Maximum Sustained Winds': 165, 'Areas Affected': ['Antilles', 'Venezuela', 'Colombia', 'United States East Coast', 'Atlantic Canada'], 'Damages in USD': 15100000000.0, 'Reported Deaths': 603}\n",
      "\n",
      "Mortality Rating 4:\n",
      "{'Hurricane Name': 'San Felipe II Okeechobee', 'Month of event': 'September', 'Year': 1928, 'Maximum Sustained Winds': 160, 'Areas Affected': ['Lesser Antilles', 'The Bahamas', 'United States East Coast', 'Atlantic Canada'], 'Damages in USD': 100000000.0, 'Reported Deaths': 4000}\n",
      "{'Hurricane Name': 'Cuba II', 'Month of event': 'November', 'Year': 1932, 'Maximum Sustained Winds': 175, 'Areas Affected': ['Lesser Antilles', 'Jamaica', 'Cayman Islands', 'Cuba', 'The Bahamas', 'Bermuda'], 'Damages in USD': 40000000.0, 'Reported Deaths': 3103}\n",
      "{'Hurricane Name': 'Janet', 'Month of event': 'September', 'Year': 1955, 'Maximum Sustained Winds': 175, 'Areas Affected': ['Lesser Antilles', 'Central America'], 'Damages in USD': 65800000.0, 'Reported Deaths': 1023}\n",
      "{'Hurricane Name': 'David', 'Month of event': 'August', 'Year': 1979, 'Maximum Sustained Winds': 175, 'Areas Affected': ['The Caribbean', 'United States East coast'], 'Damages in USD': 1540000000.0, 'Reported Deaths': 2068}\n",
      "{'Hurricane Name': 'Katrina', 'Month of event': 'August', 'Year': 2005, 'Maximum Sustained Winds': 175, 'Areas Affected': ['Bahamas', 'United States Gulf Coast'], 'Damages in USD': 125000000000.0, 'Reported Deaths': 1836}\n",
      "{'Hurricane Name': 'Maria', 'Month of event': 'September', 'Year': 2017, 'Maximum Sustained Winds': 175, 'Areas Affected': ['Lesser Antilles', 'Virgin Islands', 'Puerto Rico', 'Dominican Republic', 'Turks and Caicos Islands'], 'Damages in USD': 91600000000.0, 'Reported Deaths': 3057}\n",
      "\n"
     ]
    }
   ],
   "source": [
    "# 7\n",
    "# Rating Hurricanes by Mortality\n",
    "\n",
    "def hurricane_mortality_rating(hurr_dict):\n",
    "    mortality_scale = {0: 0, 1: 100, 2: 500, 3: 1000, 4: 10000}\n",
    "    rated_hurricanes = {rating: [] for rating in mortality_scale}\n",
    "    for hurricane in hurr_dict.values():\n",
    "        deaths = hurricane['Reported Deaths']\n",
    "        for rating, upper_bound in mortality_scale.items():\n",
    "            if deaths > upper_bound:\n",
    "                continue\n",
    "            else:\n",
    "                rated_hurricanes[rating].append(hurricane)\n",
    "                break\n",
    "    return rated_hurricanes\n",
    "\n",
    "# categorize hurricanes in new dictionary with mortality severity as key\n",
    "\n",
    "rated_hurricanes = hurricane_mortality_rating(hurr_dict)\n",
    "for rating, hurricanes in rated_hurricanes.items():\n",
    "    print(f\"Mortality Rating {rating}:\")\n",
    "    for hurricane in hurricanes:\n",
    "        print(hurricane)\n",
    "    print()"
   ]
  },
  {
   "attachments": {},
   "cell_type": "markdown",
   "id": "199b0e1c",
   "metadata": {},
   "source": [
    "8. Write a function that finds the hurricane that caused the greatest damage, and how costly it was.\n",
    "\n",
    "   Test your function on your hurricane dictionary."
   ]
  },
  {
   "cell_type": "code",
   "execution_count": 93,
   "id": "b3dc79b4",
   "metadata": {},
   "outputs": [
    {
     "name": "stdout",
     "output_type": "stream",
     "text": [
      "The most costly hurricane was Katrina with total damages of $125000000000.0\n"
     ]
    }
   ],
   "source": [
    "# 8\n",
    "# Calculating Hurricane Maximum Damage\n",
    "\n",
    "def find_most_costly_hurricane(hurr_dict):\n",
    "    max_damage = 0\n",
    "    costly_hurricane = None\n",
    "    for hurricane in hurr_dict.values():\n",
    "        damage = hurricane[\"Damages in USD\"]\n",
    "        if damage != 'Damages not recorded' and float(damage) > max_damage:\n",
    "            max_damage = float(damage)\n",
    "            costly_hurricane = hurricane[\"Hurricane Name\"]\n",
    "    return costly_hurricane, max_damage\n",
    "\n",
    "# Example usage\n",
    "most_costly_hurricane, damage_cost = find_most_costly_hurricane(hurr_dict)\n",
    "print(f\"The most costly hurricane was {most_costly_hurricane} with total damages of ${damage_cost}\")\n",
    "\n",
    "# find highest damage inducing hurricane and its total cost\n"
   ]
  },
  {
   "attachments": {},
   "cell_type": "markdown",
   "id": "58d22ddc",
   "metadata": {},
   "source": [
    "9. Lastly, you want to rate hurricanes according to how much damage they cause.\n",
    "\n",
    "   Write a function that rates hurricanes on a damage scale according to the following ratings, where the key is the rating and the value is the upper bound of damage for that rating.\n",
    "   ```py\n",
    "   damage_scale = {0: 0,\n",
    "   1: 100000000,\n",
    "   2: 1000000000,\n",
    "   3: 10000000000,\n",
    "   4: 50000000000}\n",
    "   ```\n",
    "   \n",
    "   For example, a hurricane with a `1` damage rating would have resulted in damages greater than `0` USD but less than or equal to `100000000` USD. A hurricane with a `5` damage rating would have resulted in damages greater than `50000000000` USD (talk about a lot of money).\n",
    "   \n",
    "   Store the hurricanes in a new dictionary where the keys are damage ratings and the values are lists containing a dictionary for each hurricane that falls into that damage rating.\n",
    "   \n",
    "   Test your function on your hurricane dictionary."
   ]
  },
  {
   "cell_type": "code",
   "execution_count": 98,
   "id": "e543f487",
   "metadata": {},
   "outputs": [
    {
     "name": "stdout",
     "output_type": "stream",
     "text": [
      "Damage Rating 0:\n",
      "\n",
      "Damage Rating 1:\n",
      "{'Hurricane Name': 'San Felipe II Okeechobee', 'Month of event': 'September', 'Year': 1928, 'Maximum Sustained Winds': 160, 'Areas Affected': ['Lesser Antilles', 'The Bahamas', 'United States East Coast', 'Atlantic Canada'], 'Damages in USD': 100000000.0, 'Reported Deaths': 4000}\n",
      "{'Hurricane Name': 'Cuba II', 'Month of event': 'November', 'Year': 1932, 'Maximum Sustained Winds': 175, 'Areas Affected': ['Lesser Antilles', 'Jamaica', 'Cayman Islands', 'Cuba', 'The Bahamas', 'Bermuda'], 'Damages in USD': 40000000.0, 'Reported Deaths': 3103}\n",
      "{'Hurricane Name': 'CubaBrownsville', 'Month of event': 'August', 'Year': 1933, 'Maximum Sustained Winds': 160, 'Areas Affected': ['The Bahamas', 'Cuba', 'Florida', 'Texas', 'Tamaulipas'], 'Damages in USD': 27900000.0, 'Reported Deaths': 179}\n",
      "{'Hurricane Name': 'Tampico', 'Month of event': 'September', 'Year': 1933, 'Maximum Sustained Winds': 160, 'Areas Affected': ['Jamaica', 'Yucatn Peninsula'], 'Damages in USD': 5000000.0, 'Reported Deaths': 184}\n",
      "{'Hurricane Name': 'Carol', 'Month of event': 'September', 'Year': 1953, 'Maximum Sustained Winds': 160, 'Areas Affected': ['Bermuda', 'New England', 'Atlantic Canada'], 'Damages in USD': 2000000.0, 'Reported Deaths': 5}\n",
      "{'Hurricane Name': 'Janet', 'Month of event': 'September', 'Year': 1955, 'Maximum Sustained Winds': 175, 'Areas Affected': ['Lesser Antilles', 'Central America'], 'Damages in USD': 65800000.0, 'Reported Deaths': 1023}\n",
      "{'Hurricane Name': 'Hattie', 'Month of event': 'October', 'Year': 1961, 'Maximum Sustained Winds': 160, 'Areas Affected': ['Central America'], 'Damages in USD': 60300000.0, 'Reported Deaths': 319}\n",
      "{'Hurricane Name': 'Edith', 'Month of event': 'September', 'Year': 1971, 'Maximum Sustained Winds': 160, 'Areas Affected': ['The Caribbean', 'Central America', 'Mexico', 'United States Gulf Coast'], 'Damages in USD': 25400000.0, 'Reported Deaths': 37}\n",
      "\n",
      "Damage Rating 2:\n",
      "{'Hurricane Name': 'New England', 'Month of event': 'September', 'Year': 1938, 'Maximum Sustained Winds': 160, 'Areas Affected': ['Southeastern United States', 'Northeastern United States', 'Southwestern Quebec'], 'Damages in USD': 306000000.0, 'Reported Deaths': 682}\n",
      "{'Hurricane Name': 'Carla', 'Month of event': 'September', 'Year': 1961, 'Maximum Sustained Winds': 175, 'Areas Affected': ['Texas', 'Louisiana', 'Midwestern United States'], 'Damages in USD': 326000000.0, 'Reported Deaths': 43}\n",
      "{'Hurricane Name': 'Beulah', 'Month of event': 'September', 'Year': 1967, 'Maximum Sustained Winds': 160, 'Areas Affected': ['The Caribbean', 'Mexico', 'Texas'], 'Damages in USD': 208000000.0, 'Reported Deaths': 688}\n",
      "{'Hurricane Name': 'Felix', 'Month of event': 'September', 'Year': 2007, 'Maximum Sustained Winds': 175, 'Areas Affected': ['Nicaragua', 'Honduras'], 'Damages in USD': 720000000.0, 'Reported Deaths': 133}\n",
      "\n",
      "Damage Rating 3:\n",
      "{'Hurricane Name': 'Camille', 'Month of event': 'August', 'Year': 1969, 'Maximum Sustained Winds': 175, 'Areas Affected': ['Cuba', 'United States Gulf Coast'], 'Damages in USD': 1420000000.0, 'Reported Deaths': 259}\n",
      "{'Hurricane Name': 'David', 'Month of event': 'August', 'Year': 1979, 'Maximum Sustained Winds': 175, 'Areas Affected': ['The Caribbean', 'United States East coast'], 'Damages in USD': 1540000000.0, 'Reported Deaths': 2068}\n",
      "{'Hurricane Name': 'Allen', 'Month of event': 'August', 'Year': 1980, 'Maximum Sustained Winds': 190, 'Areas Affected': ['The Caribbean', 'Yucatn Peninsula', 'Mexico', 'South Texas'], 'Damages in USD': 1240000000.0, 'Reported Deaths': 269}\n",
      "{'Hurricane Name': 'Gilbert', 'Month of event': 'September', 'Year': 1988, 'Maximum Sustained Winds': 185, 'Areas Affected': ['Jamaica', 'Venezuela', 'Central America', 'Hispaniola', 'Mexico'], 'Damages in USD': 7100000000.0, 'Reported Deaths': 318}\n",
      "{'Hurricane Name': 'Hugo', 'Month of event': 'September', 'Year': 1989, 'Maximum Sustained Winds': 160, 'Areas Affected': ['The Caribbean', 'United States East Coast'], 'Damages in USD': 10000000000.0, 'Reported Deaths': 107}\n",
      "{'Hurricane Name': 'Mitch', 'Month of event': 'October', 'Year': 1998, 'Maximum Sustained Winds': 180, 'Areas Affected': ['Central America', 'Yucatn Peninsula', 'South Florida'], 'Damages in USD': 6200000000.0, 'Reported Deaths': 19325}\n",
      "{'Hurricane Name': 'Isabel', 'Month of event': 'September', 'Year': 2003, 'Maximum Sustained Winds': 165, 'Areas Affected': ['Greater Antilles', 'Bahamas', 'Eastern United States', 'Ontario'], 'Damages in USD': 5370000000.0, 'Reported Deaths': 51}\n",
      "{'Hurricane Name': 'Emily', 'Month of event': 'July', 'Year': 2005, 'Maximum Sustained Winds': 160, 'Areas Affected': ['Windward Islands', 'Jamaica', 'Mexico', 'Texas'], 'Damages in USD': 1010000000.0, 'Reported Deaths': 17}\n",
      "{'Hurricane Name': 'Dean', 'Month of event': 'August', 'Year': 2007, 'Maximum Sustained Winds': 175, 'Areas Affected': ['The Caribbean', 'Central America'], 'Damages in USD': 1760000000.0, 'Reported Deaths': 45}\n",
      "\n",
      "Damage Rating 4:\n",
      "{'Hurricane Name': 'Andrew', 'Month of event': 'August', 'Year': 1992, 'Maximum Sustained Winds': 175, 'Areas Affected': ['The Bahamas', 'Florida', 'United States Gulf Coast'], 'Damages in USD': 26500000000.0, 'Reported Deaths': 65}\n",
      "{'Hurricane Name': 'Ivan', 'Month of event': 'September', 'Year': 2004, 'Maximum Sustained Winds': 165, 'Areas Affected': ['The Caribbean', 'Venezuela', 'United States Gulf Coast'], 'Damages in USD': 23300000000.0, 'Reported Deaths': 124}\n",
      "{'Hurricane Name': 'Rita', 'Month of event': 'September', 'Year': 2005, 'Maximum Sustained Winds': 180, 'Areas Affected': ['Cuba', 'United States Gulf Coast'], 'Damages in USD': 12000000000.0, 'Reported Deaths': 125}\n",
      "{'Hurricane Name': 'Wilma', 'Month of event': 'October', 'Year': 2005, 'Maximum Sustained Winds': 185, 'Areas Affected': ['Greater Antilles', 'Central America', 'Florida'], 'Damages in USD': 29400000000.0, 'Reported Deaths': 87}\n",
      "{'Hurricane Name': 'Matthew', 'Month of event': 'October', 'Year': 2016, 'Maximum Sustained Winds': 165, 'Areas Affected': ['Antilles', 'Venezuela', 'Colombia', 'United States East Coast', 'Atlantic Canada'], 'Damages in USD': 15100000000.0, 'Reported Deaths': 603}\n",
      "{'Hurricane Name': 'Michael', 'Month of event': 'October', 'Year': 2018, 'Maximum Sustained Winds': 160, 'Areas Affected': ['Central America', 'United States Gulf Coast (especially Florida Panhandle)'], 'Damages in USD': 25100000000.0, 'Reported Deaths': 74}\n",
      "\n"
     ]
    }
   ],
   "source": [
    "# 9\n",
    "# Rating Hurricanes by Damage\n",
    "damage_scale = {0: 0,\n",
    "                1: 100000000,\n",
    "                2: 1000000000,\n",
    "                3: 10000000000,\n",
    "                4: 50000000000}\n",
    "\n",
    "def hurricane_damage_rating(hurr_dict):\n",
    "    damage_scale = {0: 0, 1: 100000000, 2: 1000000000, 3: 10000000000, 4: 50000000000}\n",
    "    rated_hurricanes = {rating: [] for rating in damage_scale}\n",
    "    for hurricane in hurr_dict.values():\n",
    "        damage = hurricane['Damages in USD']\n",
    "        if damage == 'Damages not recorded':\n",
    "            continue\n",
    "        for rating, upper_bound in damage_scale.items():\n",
    "            if damage > upper_bound:\n",
    "                continue\n",
    "            else:\n",
    "                rated_hurricanes[rating].append(hurricane)\n",
    "                break\n",
    "    return rated_hurricanes\n",
    "\n",
    "# categorize hurricanes in new dictionary with mortality severity as key\n",
    "\n",
    "rated_hurricanes = hurricane_damage_rating(hurr_dict)\n",
    "for rating, hurricanes in rated_hurricanes.items():\n",
    "    print(f\"Damage Rating {rating}:\")\n",
    "    for hurricane in hurricanes:\n",
    "        print(hurricane)\n",
    "    print()\n",
    "\n",
    "# categorize hurricanes in new dictionary with damage severity as key\n"
   ]
  },
  {
   "attachments": {},
   "cell_type": "markdown",
   "id": "928c5fd2",
   "metadata": {},
   "source": [
    "## Solution"
   ]
  },
  {
   "attachments": {},
   "cell_type": "markdown",
   "id": "252616a3",
   "metadata": {},
   "source": [
    "Great work! View the **Hurricane Analysis_Solution.ipynb** file or visit [our forums](https://discuss.codecademy.com/t/hurricane-analysis-challenge-project-python/462363) to compare your project to our sample solution code. You can also learn how to host your own solution on GitHub so you can share it with other learners! Your solution might look different than ours, and that's okay! There are multiple ways to solve these projects, and you'll learn more by seeing others' code."
   ]
  },
  {
   "cell_type": "code",
   "execution_count": null,
   "id": "da8f7141",
   "metadata": {},
   "outputs": [],
   "source": []
  }
 ],
 "metadata": {
  "kernelspec": {
   "display_name": "Python 3.10.8 64-bit (microsoft store)",
   "language": "python",
   "name": "python3"
  },
  "language_info": {
   "codemirror_mode": {
    "name": "ipython",
    "version": 3
   },
   "file_extension": ".py",
   "mimetype": "text/x-python",
   "name": "python",
   "nbconvert_exporter": "python",
   "pygments_lexer": "ipython3",
   "version": "3.11.3"
  },
  "vscode": {
   "interpreter": {
    "hash": "b784193cf0f9970b27f3c12f21dbff8ed97e3cf923dc23fe210654173bc3fdd0"
   }
  }
 },
 "nbformat": 4,
 "nbformat_minor": 5
}
